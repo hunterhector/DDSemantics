{
 "cells": [
  {
   "cell_type": "markdown",
   "id": "b9d96387",
   "metadata": {},
   "source": [
    "# read data"
   ]
  },
  {
   "cell_type": "code",
   "execution_count": 5,
   "id": "2922b7ee",
   "metadata": {},
   "outputs": [
    {
     "name": "stdout",
     "output_type": "stream",
     "text": [
      "The autoreload extension is already loaded. To reload it, use:\n",
      "  %reload_ext autoreload\n"
     ]
    },
    {
     "data": {
      "text/plain": [
       "'/Users/hector.liu/Documents/projects/DDSemantics'"
      ]
     },
     "execution_count": 5,
     "metadata": {},
     "output_type": "execute_result"
    }
   ],
   "source": [
    "%load_ext autoreload\n",
    "%autoreload 2\n",
    "\n",
    "import os\n",
    "os.getcwd()"
   ]
  },
  {
   "cell_type": "code",
   "execution_count": 6,
   "id": "2caef13f",
   "metadata": {},
   "outputs": [],
   "source": [
    "import sys\n",
    "import os\n",
    "sys.path.append(os.getcwd())"
   ]
  },
  {
   "cell_type": "code",
   "execution_count": 7,
   "id": "c3a3b97d",
   "metadata": {},
   "outputs": [],
   "source": [
    "from forte import Pipeline"
   ]
  },
  {
   "cell_type": "code",
   "execution_count": 10,
   "id": "3d0cf116",
   "metadata": {},
   "outputs": [],
   "source": [
    "from facets.readers.implict_reader import RamsReader\n",
    "from forte.processors.writers import PackIdJsonPackWriter\n",
    "\n",
    "# Write out Rams dataset.\n",
    "rams_dir = \"../data/rams_train\"\n",
    "\n",
    "Pipeline().set_reader(\n",
    "    RamsReader(),\n",
    "    config = {\n",
    "        \"rams_json_path\": \"../data/RAMS_1.0/data/train.jsonlines\",\n",
    "    }\n",
    ").add(\n",
    "    PackIdJsonPackWriter(),\n",
    "    config = {\n",
    "        \"output_dir\": rams_dir\n",
    "    }\n",
    ").run()"
   ]
  },
  {
   "cell_type": "code",
   "execution_count": 9,
   "id": "17282205",
   "metadata": {},
   "outputs": [],
   "source": [
    "from forte.data.readers import DirPackReader\n",
    "# Make sure we can read it\n",
    "Pipeline().set_reader(\n",
    "    DirPackReader(),\n",
    ").run(data_dir)"
   ]
  },
  {
   "cell_type": "code",
   "execution_count": null,
   "id": "d91d2f55",
   "metadata": {},
   "outputs": [],
   "source": []
  }
 ],
 "metadata": {
  "kernelspec": {
   "display_name": "Python 3 (ipykernel)",
   "language": "python",
   "name": "python3"
  },
  "language_info": {
   "codemirror_mode": {
    "name": "ipython",
    "version": 3
   },
   "file_extension": ".py",
   "mimetype": "text/x-python",
   "name": "python",
   "nbconvert_exporter": "python",
   "pygments_lexer": "ipython3",
   "version": "3.9.15"
  }
 },
 "nbformat": 4,
 "nbformat_minor": 5
}
