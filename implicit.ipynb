{
 "cells": [
  {
   "cell_type": "markdown",
   "id": "b9d96387",
   "metadata": {},
   "source": [
    "# Read data"
   ]
  },
  {
   "cell_type": "code",
   "execution_count": 8,
   "id": "2922b7ee",
   "metadata": {},
   "outputs": [
    {
     "name": "stdout",
     "output_type": "stream",
     "text": [
      "The autoreload extension is already loaded. To reload it, use:\n",
      "  %reload_ext autoreload\n"
     ]
    },
    {
     "data": {
      "text/plain": [
       "'/Users/hector/Documents/projects/DDSemantics'"
      ]
     },
     "execution_count": 8,
     "metadata": {},
     "output_type": "execute_result"
    }
   ],
   "source": [
    "%load_ext autoreload\n",
    "%autoreload 2\n",
    "\n",
    "import os\n",
    "os.getcwd()"
   ]
  },
  {
   "cell_type": "code",
   "execution_count": 9,
   "id": "2caef13f",
   "metadata": {},
   "outputs": [],
   "source": [
    "import sys\n",
    "import os\n",
    "sys.path.append(os.getcwd())"
   ]
  },
  {
   "cell_type": "code",
   "execution_count": 10,
   "id": "c3a3b97d",
   "metadata": {},
   "outputs": [],
   "source": [
    "from forte import Pipeline\n",
    "\n",
    "# Write out Rams dataset.\n",
    "rams_dir = \"../data/rams_train\"\n",
    "gc_dir = \"../data/gc_data\""
   ]
  },
  {
   "cell_type": "code",
   "execution_count": 14,
   "id": "3d0cf116",
   "metadata": {},
   "outputs": [],
   "source": [
    "from facets.readers.implict_reader import RamsReader\n",
    "from forte.processors.writers import PackIdJsonPackWriter\n",
    "\n",
    "\n",
    "Pipeline().set_reader(\n",
    "    RamsReader(),\n",
    "    config = {\n",
    "        \"rams_json_path\": \"../data/RAMS_1.0/data/train.jsonlines\",\n",
    "    }\n",
    ").add(\n",
    "    PackIdJsonPackWriter(),\n",
    "    config = {\n",
    "        \"output_dir\": rams_dir\n",
    "    }\n",
    ").run()"
   ]
  },
  {
   "cell_type": "code",
   "execution_count": null,
   "id": "78b4467f",
   "metadata": {},
   "outputs": [],
   "source": [
    "from facets.readers.implict_reader import GCNombankReader\n",
    "from forte.processors.writers import PackIdJsonPackWriter\n",
    "\n",
    "\n",
    "Pipeline().set_reader(\n",
    "    GCNombankReader(),\n",
    "    config = {\n",
    "        \"implicit_path\": \"../data/Nominal Semantic Role Labeling/\",\n",
    "        \"nombank_path\": \"../data/nombank\",\n",
    "        \"wsj_path\": \"../data/wsj\",\n",
    "    }\n",
    ").add(\n",
    "    PackIdJsonPackWriter(),\n",
    "    config = {\n",
    "        \"output_dir\": gc_dir\n",
    "    }\n",
    ").run()"
   ]
  },
  {
   "cell_type": "markdown",
   "id": "83d22402",
   "metadata": {},
   "source": [
    "# Process Data"
   ]
  },
  {
   "cell_type": "code",
   "execution_count": 15,
   "id": "17282205",
   "metadata": {
    "scrolled": true
   },
   "outputs": [
    {
     "name": "stdout",
     "output_type": "stream",
     "text": [
      "ImplicitStats processor finished.\n",
      "===Summary of statistics===\n",
      "number of docs:7329\n",
      "number of sentences:35535\n",
      "number of events:7329\n",
      "number of arguments:17026\n",
      "Distance distribution of implicit arguments:\n",
      "0:14018\n",
      "-1:1350\n",
      "2:279\n",
      "1:769\n",
      "-2:610\n"
     ]
    }
   ],
   "source": [
    "from forte.data.readers import DirPackReader\n",
    "from facets.llm.processors import ImplicitStats\n",
    "\n",
    "# Make sure we can read it\n",
    "Pipeline().set_reader(\n",
    "    DirPackReader(),\n",
    ").add(\n",
    "    ImplicitStats()\n",
    ").run(rams_dir)"
   ]
  },
  {
   "cell_type": "code",
   "execution_count": null,
   "id": "d91d2f55",
   "metadata": {},
   "outputs": [],
   "source": []
  }
 ],
 "metadata": {
  "kernelspec": {
   "display_name": "Python 3 (ipykernel)",
   "language": "python",
   "name": "python3"
  },
  "language_info": {
   "codemirror_mode": {
    "name": "ipython",
    "version": 3
   },
   "file_extension": ".py",
   "mimetype": "text/x-python",
   "name": "python",
   "nbconvert_exporter": "python",
   "pygments_lexer": "ipython3",
   "version": "3.9.15"
  }
 },
 "nbformat": 4,
 "nbformat_minor": 5
}
